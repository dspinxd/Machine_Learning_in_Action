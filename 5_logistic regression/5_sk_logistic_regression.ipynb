{
 "cells": [
  {
   "cell_type": "markdown",
   "metadata": {},
   "source": [
    "# 数据预处理"
   ]
  },
  {
   "cell_type": "code",
   "execution_count": 1,
   "metadata": {},
   "outputs": [],
   "source": [
    "#import pandas as pd\n",
    "#dataframe   转 numpy\n",
    "#data = pd.read_csv('data.csv',header=None).values\n",
    "#print(data.shape)\n",
    "#data.values"
   ]
  },
  {
   "cell_type": "code",
   "execution_count": 2,
   "metadata": {},
   "outputs": [],
   "source": [
    "import numpy as np\n",
    "x = np.loadtxt(\"data.csv\",delimiter=\",\",usecols=(0,1))\n",
    "y = np.loadtxt(\"data.csv\",delimiter=\",\",usecols=(2,))"
   ]
  },
  {
   "cell_type": "markdown",
   "metadata": {},
   "source": [
    "# 准备训练测试数据"
   ]
  },
  {
   "cell_type": "code",
   "execution_count": 3,
   "metadata": {},
   "outputs": [],
   "source": [
    "from sklearn.model_selection import train_test_split\n",
    "\n",
    "#把数据集分为训练集和测试集\n",
    "#train_data：被划分的样本特征集\n",
    "#train_target：被划分的样本标签\n",
    "#test_size：如果是浮点数，在0-1之间，表示测试样本占比；如果是整数的话就是样本的数量\n",
    "#random_state：是随机数的种子，就是该组随机数的编号，在需要重复试验的时候，保证得到一组一样的随机数。\n",
    "X_train,X_test,y_train,y_test = train_test_split(x, y,test_size=0.25,random_state=42)\n"
   ]
  },
  {
   "cell_type": "markdown",
   "metadata": {},
   "source": [
    "# 使用逻辑回归进行预测任务"
   ]
  },
  {
   "cell_type": "code",
   "execution_count": 7,
   "metadata": {},
   "outputs": [],
   "source": [
    "from sklearn.preprocessing import StandardScaler\n",
    "from sklearn.linear_model import LogisticRegression\n",
    " \n",
    "# 标准化数据，保证每个维度的特征数据方差为1，均值为0。使得预测结果不会被某些维度过大的特征值而主导\n",
    "ss = StandardScaler()\n",
    "\n",
    "#fit 是为计算该类处理所需的相关参数，以标准化为例，fit()就是计算标准化所用到的均值与方差\n",
    "#transform：利用fit（）的结果作为参数对数据进行相应的处理，比如正规化。\n",
    "#fit_transform :可以看做是fit和transform的结合，如果训练阶段使用fit_transform，则在测试阶段只需要对测试样本进行transform就行了。\n",
    "X_train = ss.fit_transform(X_train)\n",
    "X_test = ss.transform(X_test)\n",
    "#print(X_train)\n",
    "#print(X_test)\n",
    "# 初始化 LogisticRegression\n",
    " \n",
    "lr = LogisticRegression(C=1.0, penalty='l1', tol=0.04, solver = 'liblinear')\n",
    " \n",
    "# 跳用LogisticRegression中的fit函数／模块来训练模型参数\n",
    "lr.fit(X_train, y_train)\n",
    "lr_y_predict = lr.predict(X_test)"
   ]
  },
  {
   "cell_type": "markdown",
   "metadata": {},
   "source": [
    "# 性能分析"
   ]
  },
  {
   "cell_type": "code",
   "execution_count": 8,
   "metadata": {},
   "outputs": [
    {
     "name": "stdout",
     "output_type": "stream",
     "text": [
      "score： 1.0\n",
      "              precision    recall  f1-score   support\n",
      "\n",
      "         die       1.00      1.00      1.00        11\n",
      "       alive       1.00      1.00      1.00        14\n",
      "\n",
      "   micro avg       1.00      1.00      1.00        25\n",
      "   macro avg       1.00      1.00      1.00        25\n",
      "weighted avg       1.00      1.00      1.00        25\n",
      "\n"
     ]
    }
   ],
   "source": [
    "from sklearn.metrics import classification_report\n",
    " \n",
    "# 利用逻辑斯蒂回归自带的评分函数score获得模型在测试集上的准确定结果\n",
    "print ('score：',lr.score(X_test,y_test))\n",
    " \n",
    "print (classification_report(y_test,lr_y_predict,target_names = ['die','alive']))"
   ]
  },
  {
   "cell_type": "code",
   "execution_count": null,
   "metadata": {},
   "outputs": [],
   "source": []
  }
 ],
 "metadata": {
  "kernelspec": {
   "display_name": "Python 3",
   "language": "python",
   "name": "python3"
  },
  "language_info": {
   "codemirror_mode": {
    "name": "ipython",
    "version": 3
   },
   "file_extension": ".py",
   "mimetype": "text/x-python",
   "name": "python",
   "nbconvert_exporter": "python",
   "pygments_lexer": "ipython3",
   "version": "3.6.7"
  }
 },
 "nbformat": 4,
 "nbformat_minor": 2
}
