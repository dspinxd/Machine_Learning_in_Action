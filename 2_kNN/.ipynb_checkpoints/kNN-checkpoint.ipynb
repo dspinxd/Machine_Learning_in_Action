{
 "cells": [
  {
   "cell_type": "code",
   "execution_count": 15,
   "metadata": {},
   "outputs": [],
   "source": [
    "import numpy as np\n",
    "import operator"
   ]
  },
  {
   "cell_type": "code",
   "execution_count": 16,
   "metadata": {},
   "outputs": [],
   "source": [
    "def creatDataSet():\n",
    "    '''\n",
    "    Parameter:\n",
    "    \n",
    "    Return：\n",
    "        group - 数据集\n",
    "        labels - 标签\n",
    "    '''\n",
    "    group = np.array([[1.0, 1.1], [1.0, 1.0], [0, 0], [0, 0.1]])\n",
    "    labels = ['love', 'love', 'action', 'action']\n",
    "    return group, labels"
   ]
  },
  {
   "cell_type": "code",
   "execution_count": 32,
   "metadata": {},
   "outputs": [],
   "source": [
    "def classify0(inX, dataSet, labels, k):\n",
    "    '''\n",
    "    Parameter：\n",
    "        inX ： 输入待分类的向量\n",
    "        dataSet： 已知的训练集（labels确定）\n",
    "        labels: 标签\n",
    "        k：用于选择最近邻居的数目，只能小于等于dataSet的行数\n",
    "    '''\n",
    "    #numpy方法shape[0]，返回dataSet的行数\n",
    "    dataSetSize = dataSet.shape[0]\n",
    "    #numpy方法tile,把inX扩展dataSetSize行，1列，目的是求向量inX（待确认的）与每个训练样本数据（dataSet，已知的）的差值\n",
    "    diffMat = np.tile(inX, (dataSetSize, 1)) - dataSet\n",
    "    #求平方\n",
    "    sqDiffMat = diffMat**2\n",
    "    #sum(axis=1) 是按行求和，即求每组训练集数据与输入向量的距离平方\n",
    "    sqDistances = sqDiffMat.sum(axis=1) \n",
    "    #开平方，以上就是计算欧式距离\n",
    "    distances = sqDistances ** 0.5\n",
    "    #把distance按照从小到大排序，并返回index\n",
    "    sortedDistIndicies = distances.argsort()\n",
    "    #初始化字典\n",
    "    classCount = {}\n",
    "    for i  in range(k):\n",
    "        #取前K个距离对应的labels\n",
    "        voteIlabel = labels[sortedDistIndicies[i]]\n",
    "        #dict.get(key,default=None),字典的get()方法,返回指定键的值,如果值不在字典中返回默认值。\n",
    "        #按类别统计出现的次数\n",
    "        classCount[voteIlabel] = classCount.get(voteIlabel, 0) + 1\n",
    "    #对字典classCount 按照value从大到小排序，sortedClassCount是一个list，其中的元素为（key，value）的元组\n",
    "    sortedClassCount = sorted(classCount.items(), key = operator.itemgetter(1), reverse = True)\n",
    "    #list第一个元素即为出现次数最多的label，list第一个元素的为一个元组，元组的第一个元素即为其label\n",
    "    return sortedClassCount[0][0]\n",
    "        "
   ]
  },
  {
   "cell_type": "code",
   "execution_count": 33,
   "metadata": {},
   "outputs": [
    {
     "data": {
      "text/plain": [
       "'action'"
      ]
     },
     "execution_count": 33,
     "metadata": {},
     "output_type": "execute_result"
    }
   ],
   "source": [
    "# 创建数据集\n",
    "group, labels = creatDataSet()\n",
    "\n",
    "# 测试数据\n",
    "test = [0, 0]\n",
    "\n",
    "classify0(test, group, labels, 3)"
   ]
  },
  {
   "cell_type": "code",
   "execution_count": null,
   "metadata": {},
   "outputs": [],
   "source": []
  }
 ],
 "metadata": {
  "kernelspec": {
   "display_name": "Python 3",
   "language": "python",
   "name": "python3"
  },
  "language_info": {
   "codemirror_mode": {
    "name": "ipython",
    "version": 3
   },
   "file_extension": ".py",
   "mimetype": "text/x-python",
   "name": "python",
   "nbconvert_exporter": "python",
   "pygments_lexer": "ipython3",
   "version": "3.6.7"
  }
 },
 "nbformat": 4,
 "nbformat_minor": 2
}
